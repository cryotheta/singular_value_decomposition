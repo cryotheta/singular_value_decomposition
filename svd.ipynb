{
 "cells": [
  {
   "cell_type": "code",
   "execution_count": 166,
   "metadata": {},
   "outputs": [],
   "source": [
    "import numpy as np\n"
   ]
  },
  {
   "cell_type": "code",
   "execution_count": 169,
   "metadata": {},
   "outputs": [],
   "source": [
    "def qr(A):\n",
    "    rand=np.random.randn(*np.shape(A))\n",
    "    Q,_=np.linalg.qr(A)\n",
    "    i=0\n",
    "    while True:\n",
    "        i=i+1\n",
    "        Z=A.dot(Q)\n",
    "        Q_new,R_new=np.linalg.qr(Z)\n",
    "        if np.linalg.norm(Q_new-Q)<0.000001:\n",
    "            break\n",
    "        if i==10000:\n",
    "            break\n",
    "        Q=Q_new\n",
    "    return R_new, Q\n",
    "        \n",
    "        \n",
    "        \n",
    "    "
   ]
  },
  {
   "cell_type": "code",
   "execution_count": 237,
   "metadata": {},
   "outputs": [],
   "source": [
    "def cs(alpha,beta):\n",
    "    asq=np.square(alpha)\n",
    "    bsq=np.square(beta)\n",
    "    c=alpha/np.sqrt(asq+bsq)\n",
    "    s=beta/np.sqrt(asq+bsq)\n",
    "    return c,s"
   ]
  },
  {
   "cell_type": "code",
   "execution_count": 238,
   "metadata": {},
   "outputs": [],
   "source": [
    "def lg(n,k,c,s):\n",
    "    a=np.identity(n)\n",
    "    a[k,k]=c\n",
    "    a[k,k+1]=s\n",
    "    a[k+1,k]=-s\n",
    "    a[k+1,k+1]=c\n",
    "    return a"
   ]
  },
  {
   "cell_type": "code",
   "execution_count": 239,
   "metadata": {},
   "outputs": [],
   "source": [
    "def rg(n,k,c,s):\n",
    "    a=np.identity(n)\n",
    "    a[k,k]=c\n",
    "    a[k,k+1]=-s\n",
    "    a[k+1,k]=s\n",
    "    a[k+1,k+1]=c\n",
    "    return a"
   ]
  },
  {
   "cell_type": "code",
   "execution_count": 303,
   "metadata": {},
   "outputs": [],
   "source": [
    "def R(a):\n",
    "    n,m=np.shape(a)\n",
    "    G=[]\n",
    "    for i in range(0,n-1):\n",
    "        alpha=a[i,i]\n",
    "        beta=a[i+1,i]\n",
    "        g=lg(n,i,*cs(alpha,beta))\n",
    "        G.append(g.T)\n",
    "        a=np.matmul(g,a)\n",
    "    return a,G,n\n",
    "\n",
    "def Q(G,n):\n",
    "    q=np.identity(n)\n",
    "    for i in G:\n",
    "        q=np.matmul(q,i)\n",
    "    return q\n",
    "def qrdecomp(a):    \n",
    "    for i in range(0,13):\n",
    "        r,g,n=R(a)\n",
    "        q=Q(g,n)\n",
    "        a=np.matmul(r,q)\n",
    "        print(np.around(a))\n",
    "    return a\n",
    "        \n",
    "        \n",
    "    \n",
    "    "
   ]
  },
  {
   "cell_type": "code",
   "execution_count": 304,
   "metadata": {},
   "outputs": [],
   "source": [
    "###########House Holder Transform##########################\n",
    "import numpy as np"
   ]
  },
  {
   "cell_type": "code",
   "execution_count": 305,
   "metadata": {},
   "outputs": [],
   "source": [
    "def hht(arr,index,column):\n",
    "    matrix=np.array(arr)\n",
    "    n,m=np.shape(matrix)\n",
    "    #print(\"n={}\".format(n))\n",
    "    j=index-1\n",
    "    column=column-1\n",
    "    alpha=np.sqrt(np.sum(matrix[j:,column]*matrix[j:,column]))*np.sign(matrix[j,column])*np.array([-1])\n",
    "    r=np.sqrt(0.5*alpha*alpha-0.5*matrix[j,column]*alpha)\n",
    "    if j!=0 and j!=n-2:\n",
    "        w0=np.zeros(j)\n",
    "        w1=(matrix[j,column]-alpha)/(2*r)\n",
    "        wj=np.array([matrix[i,column]*0.5/r for i in range(j+1,n)])\n",
    "        w=np.array(np.concatenate((w0,w1,np.squeeze(wj))))\n",
    "    elif j==n-2:\n",
    "        w0=np.zeros(j)\n",
    "        w1=(matrix[j,column]-alpha)/(2*r)\n",
    "        wj=np.array([matrix[i,column]*0.5/r for i in range(j+1,n)])\n",
    "        w=np.array(np.concatenate((w0,w1,np.reshape(wj,(1)))))\n",
    "    else:\n",
    "        w1=(matrix[j,column]-alpha)/(2*r)\n",
    "        wj=np.array([matrix[i,column]*0.5/r for i in range(j+1,n)])\n",
    "        w=np.array(np.concatenate((w1,np.squeeze(wj))))\n",
    "    \n",
    "    P=np.identity(n)-2*np.outer(w,w)\n",
    "    matrix_1=np.around(np.matmul(P,matrix),14)\n",
    "    return alpha,r ,w, matrix_1\n",
    "    "
   ]
  },
  {
   "cell_type": "markdown",
   "metadata": {},
   "source": [
    "Bidiagonalize matrix using Householder Transforms"
   ]
  },
  {
   "cell_type": "code",
   "execution_count": 306,
   "metadata": {},
   "outputs": [],
   "source": [
    "def bidi(a):\n",
    "    m,n=np.shape(a)\n",
    "    if m==n:\n",
    "        for i in range(1,n):\n",
    "            if i==1:\n",
    "                _,_,_,math=hht(a,i,i)\n",
    "                _,_,_,math=hht(math.T,i+1,i)\n",
    "                print(math)\n",
    "                print(i)\n",
    "            elif i==n-1:\n",
    "                _,_,_,math=hht(math.T,i,i)\n",
    "                print(math)\n",
    "                print(i)\n",
    "            else:\n",
    "                _,_,_,math=hht(math.T,i,i)\n",
    "                _,_,_,math=hht(math.T,i+1,i)\n",
    "                print(math)\n",
    "                print(i)\n",
    "        return math\n",
    "    elif m>n:\n",
    "        for i in range(1,n-1):\n",
    "            if i==1:\n",
    "                _,_,_,math=hht(a,i,i)\n",
    "                _,_,_,math=hht(math.T,i+1,i)\n",
    "                print(np.around(math,3))\n",
    "                print(i)\n",
    "            else:\n",
    "                _,_,_,math=hht(math.T,i,i)\n",
    "                _,_,_,math=hht(math.T,i+1,i)\n",
    "                print(math)\n",
    "                print(i)\n",
    "        math=math.T\n",
    "        for i in range(n-1,m):\n",
    "            _,_,_,math=hht(math,i,i)\n",
    "            print(np.around(math,3))\n",
    "        return math[:n,:n]\n",
    "    elif m<n:\n",
    "        print(\"Try transposing the matrix argument\")\n",
    "        return 0\n",
    "        "
   ]
  },
  {
   "cell_type": "code",
   "execution_count": 307,
   "metadata": {},
   "outputs": [],
   "source": [
    "big=np.array([[4, 1 , -2, 2,6],\n",
    "[1 ,2 ,0 ,1,9],\n",
    "[-2 ,0, 3, -2,5],\n",
    "[2 ,1 ,-2 ,-1,4],[1,8,-9,5,-2],[7,-6,1,4,3]])\n"
   ]
  },
  {
   "cell_type": "code",
   "execution_count": 308,
   "metadata": {},
   "outputs": [
    {
     "name": "stdout",
     "output_type": "stream",
     "text": [
      "[[ -8.66    0.      0.      0.      0.      0.   ]\n",
      " [ -8.573   4.849   3.584   0.08    0.134  -1.511]\n",
      " [ -0.      0.877   3.097  -1.566 -10.26    4.057]\n",
      " [ -0.     -0.74   -2.593  -1.576   7.963  -1.399]\n",
      " [ -0.      6.728   4.915   2.757   1.072  -5.197]]\n",
      "1\n",
      "[[-8.66025404  0.          0.          0.          0.          0.        ]\n",
      " [-8.57282528 -6.21758279  0.          0.          0.          0.        ]\n",
      " [ 0.          9.61322188 -0.31258394 -2.63370583  1.78443209  2.0847997 ]\n",
      " [ 0.          0.         -1.44535623 -1.40596125  6.23377201 -1.38699466]\n",
      " [ 0.         -0.         -2.66740399  1.72835392 11.33062039 -4.9532751 ]]\n",
      "2\n",
      "[[-8.66025404  0.          0.          0.          0.          0.        ]\n",
      " [-8.57282528 -6.21758279  0.          0.          0.          0.        ]\n",
      " [ 0.          9.61322188  3.81637299  0.          0.          0.        ]\n",
      " [ 0.          0.         -3.62653055 -3.41002096 -7.99302204  6.53601717]\n",
      " [ 0.          0.          0.          3.28554146  6.60688503 -4.69425098]]\n",
      "3\n",
      "[[-8.66  -8.573  0.     0.     0.   ]\n",
      " [ 0.    -6.218  9.613  0.     0.   ]\n",
      " [ 0.     0.     3.816 -3.627  0.   ]\n",
      " [ 0.     0.     0.    10.874 -8.709]\n",
      " [ 0.     0.     0.    -0.    -0.105]\n",
      " [ 0.     0.     0.     0.     0.794]]\n",
      "[[-8.66  -8.573  0.     0.     0.   ]\n",
      " [ 0.    -6.218  9.613  0.     0.   ]\n",
      " [ 0.     0.     3.816 -3.627  0.   ]\n",
      " [ 0.     0.     0.    10.874 -8.709]\n",
      " [ 0.     0.     0.     0.     0.801]\n",
      " [ 0.     0.     0.     0.     0.   ]]\n",
      "[[180.  38.   0.  -0.   0.]\n",
      " [ 38. 113.  14.   0.   0.]\n",
      " [  0.  14. 196. -32.  -0.]\n",
      " [  0.   0. -32.  12.  -0.]\n",
      " [  0.   0.  -0.  -0.   0.]]\n",
      "[[193.  21.  -0.  -0.   0.]\n",
      " [ 21. 106.  26.   0.   0.]\n",
      " [  0.  26. 196.  -1.  -0.]\n",
      " [  0.   0.  -1.   7.  -0.]\n",
      " [  0.   0.  -0.  -0.   0.]]\n",
      "[[196.  12.  -0.   0.   0.]\n",
      " [ 12. 120.  45.   0.   0.]\n",
      " [  0.  45. 178.  -0.  -0.]\n",
      " [  0.   0.  -0.   7.  -0.]\n",
      " [  0.   0.  -0.  -0.   0.]]\n",
      "[[197.   8.  -0.   0.   0.]\n",
      " [  8. 157.  53.   0.  -0.]\n",
      " [  0.  53. 141.  -0.  -0.]\n",
      " [  0.   0.  -0.   7.  -0.]\n",
      " [  0.   0.  -0.  -0.   0.]]\n",
      "[[198.   6.  -0.   0.   0.]\n",
      " [  6. 187.  38.   0.  -0.]\n",
      " [  0.  38. 110.  -0.  -0.]\n",
      " [  0.   0.  -0.   7.  -0.]\n",
      " [  0.   0.  -0.  -0.   0.]]\n",
      "[[198.   6.  -0.   0.   0.]\n",
      " [  6. 198.  20.   0.  -0.]\n",
      " [  0.  20.  98.  -0.  -0.]\n",
      " [  0.   0.  -0.   7.  -0.]\n",
      " [  0.   0.  -0.  -0.   0.]]\n",
      "[[199.   6.  -0.   0.   0.]\n",
      " [  6. 201.  10.   0.  -0.]\n",
      " [  0.  10.  95.  -0.  -0.]\n",
      " [  0.   0.  -0.   7.  -0.]\n",
      " [  0.  -0.  -0.  -0.   0.]]\n",
      "[[199.   6.  -0.   0.   0.]\n",
      " [  6. 201.   5.   0.  -0.]\n",
      " [  0.   5.  95.  -0.  -0.]\n",
      " [  0.   0.  -0.   7.  -0.]\n",
      " [  0.  -0.  -0.  -0.   0.]]\n",
      "[[199.   6.  -0.   0.   0.]\n",
      " [  6. 201.   2.   0.  -0.]\n",
      " [  0.   2.  95.  -0.  -0.]\n",
      " [  0.   0.  -0.   7.  -0.]\n",
      " [  0.  -0.  -0.  -0.   0.]]\n",
      "[[200.   6.  -0.   0.   0.]\n",
      " [  6. 201.   1.   0.  -0.]\n",
      " [  0.   1.  95.  -0.  -0.]\n",
      " [  0.   0.  -0.   7.   0.]\n",
      " [  0.  -0.  -0.  -0.   0.]]\n",
      "[[200.   6.  -0.   0.   0.]\n",
      " [  6. 200.   0.   0.  -0.]\n",
      " [  0.   0.  95.  -0.  -0.]\n",
      " [  0.   0.  -0.   7.   0.]\n",
      " [  0.  -0.  -0.  -0.   0.]]\n",
      "[[201.   6.  -0.   0.   0.]\n",
      " [  6. 200.   0.   0.  -0.]\n",
      " [  0.   0.  95.  -0.  -0.]\n",
      " [  0.   0.  -0.   7.   0.]\n",
      " [  0.  -0.  -0.  -0.   0.]]\n",
      "[[201.   6.  -0.   0.   0.]\n",
      " [  6. 199.   0.   0.  -0.]\n",
      " [  0.   0.  95.  -0.  -0.]\n",
      " [  0.   0.  -0.   7.   0.]\n",
      " [  0.  -0.  -0.  -0.   0.]]\n",
      "[[ 2.010e+02  6.200e+00 -0.000e+00  0.000e+00  0.000e+00]\n",
      " [ 6.200e+00  1.995e+02  1.000e-01  0.000e+00 -0.000e+00]\n",
      " [ 0.000e+00  1.000e-01  9.460e+01 -0.000e+00 -0.000e+00]\n",
      " [ 0.000e+00  0.000e+00 -0.000e+00  6.800e+00  0.000e+00]\n",
      " [ 0.000e+00 -0.000e+00 -0.000e+00 -0.000e+00  1.000e-01]]\n",
      "[[148.49333333  53.30225094   0.           0.           0.        ]\n",
      " [ 53.30225094 131.0723706   36.6876403    0.           0.        ]\n",
      " [  0.          36.6876403   27.71642659 -39.43360726   0.        ]\n",
      " [  0.           0.         -39.43360726 194.07623012  -6.97581323]\n",
      " [  0.           0.           0.          -6.97581323   0.64163935]]\n",
      "[14.17602933 14.12270586  9.72818209  2.61305043  0.35186991]\n",
      "[14.36941284 13.92590074  9.72817651  2.61305043  0.35186991]\n"
     ]
    },
    {
     "name": "stderr",
     "output_type": "stream",
     "text": [
      "C:\\Users\\pi\\anaconda3\\lib\\site-packages\\ipykernel_launcher.py:6: RuntimeWarning: invalid value encountered in sqrt\n",
      "  \n"
     ]
    }
   ],
   "source": [
    "aa=bidi(big)\n",
    "mul=np.matmul(aa,aa.T)\n",
    "mat=qrdecomp(mul)\n",
    "print(np.around(mat,1))\n",
    "print(mul)\n",
    "print(np.diag(np.sqrt(mat)))\n",
    "print(np.linalg.svd(big)[1])"
   ]
  },
  {
   "cell_type": "code",
   "execution_count": 309,
   "metadata": {},
   "outputs": [
    {
     "name": "stdout",
     "output_type": "stream",
     "text": [
      "[[180.  38.   0.  -0.   0.]\n",
      " [ 38. 113.  14.   0.   0.]\n",
      " [  0.  14. 196. -32.  -0.]\n",
      " [  0.   0. -32.  12.  -0.]\n",
      " [  0.   0.  -0.  -0.   0.]]\n",
      "[[193.  21.  -0.  -0.   0.]\n",
      " [ 21. 106.  26.   0.   0.]\n",
      " [  0.  26. 196.  -1.  -0.]\n",
      " [  0.   0.  -1.   7.  -0.]\n",
      " [  0.   0.  -0.  -0.   0.]]\n",
      "[[196.  12.  -0.   0.   0.]\n",
      " [ 12. 120.  45.   0.   0.]\n",
      " [  0.  45. 178.  -0.  -0.]\n",
      " [  0.   0.  -0.   7.  -0.]\n",
      " [  0.   0.  -0.  -0.   0.]]\n",
      "[[197.   8.  -0.   0.   0.]\n",
      " [  8. 157.  53.   0.  -0.]\n",
      " [  0.  53. 141.  -0.  -0.]\n",
      " [  0.   0.  -0.   7.  -0.]\n",
      " [  0.   0.  -0.  -0.   0.]]\n",
      "[[198.   6.  -0.   0.   0.]\n",
      " [  6. 187.  38.   0.  -0.]\n",
      " [  0.  38. 110.  -0.  -0.]\n",
      " [  0.   0.  -0.   7.  -0.]\n",
      " [  0.   0.  -0.  -0.   0.]]\n",
      "[[198.   6.  -0.   0.   0.]\n",
      " [  6. 198.  20.   0.  -0.]\n",
      " [  0.  20.  98.  -0.  -0.]\n",
      " [  0.   0.  -0.   7.  -0.]\n",
      " [  0.   0.  -0.  -0.   0.]]\n",
      "[[199.   6.  -0.   0.   0.]\n",
      " [  6. 201.  10.   0.  -0.]\n",
      " [  0.  10.  95.  -0.  -0.]\n",
      " [  0.   0.  -0.   7.  -0.]\n",
      " [  0.  -0.  -0.  -0.   0.]]\n",
      "[[199.   6.  -0.   0.   0.]\n",
      " [  6. 201.   5.   0.  -0.]\n",
      " [  0.   5.  95.  -0.  -0.]\n",
      " [  0.   0.  -0.   7.  -0.]\n",
      " [  0.  -0.  -0.  -0.   0.]]\n",
      "[[199.   6.  -0.   0.   0.]\n",
      " [  6. 201.   2.   0.  -0.]\n",
      " [  0.   2.  95.  -0.  -0.]\n",
      " [  0.   0.  -0.   7.  -0.]\n",
      " [  0.  -0.  -0.  -0.   0.]]\n",
      "[[200.   6.  -0.   0.   0.]\n",
      " [  6. 201.   1.   0.  -0.]\n",
      " [  0.   1.  95.  -0.  -0.]\n",
      " [  0.   0.  -0.   7.   0.]\n",
      " [  0.  -0.  -0.  -0.   0.]]\n",
      "[[200.   6.  -0.   0.   0.]\n",
      " [  6. 200.   0.   0.  -0.]\n",
      " [  0.   0.  95.  -0.  -0.]\n",
      " [  0.   0.  -0.   7.   0.]\n",
      " [  0.  -0.  -0.  -0.   0.]]\n",
      "[[201.   6.  -0.   0.   0.]\n",
      " [  6. 200.   0.   0.  -0.]\n",
      " [  0.   0.  95.  -0.  -0.]\n",
      " [  0.   0.  -0.   7.   0.]\n",
      " [  0.  -0.  -0.  -0.   0.]]\n",
      "[[201.   6.  -0.   0.   0.]\n",
      " [  6. 199.   0.   0.  -0.]\n",
      " [  0.   0.  95.  -0.  -0.]\n",
      " [  0.   0.  -0.   7.   0.]\n",
      " [  0.  -0.  -0.  -0.   0.]]\n"
     ]
    }
   ],
   "source": [
    "mat=qrdecomp(mul)"
   ]
  },
  {
   "cell_type": "markdown",
   "metadata": {},
   "source": [
    "def givenr(n,j,cos,sin):\n",
    "    a=np.identity(n)\n",
    "    a[j-1,j-1]=cos\n",
    "    a[j-1,j]=sin\n",
    "    a[j,j-1]=-sin\n",
    "    a[j,j]=cos\n",
    "    return a\n",
    "def givenl(n,j,cos,sin):\n",
    "    a=np.identity(n)\n",
    "    a[j-1,j-1]=cos\n",
    "    a[j-1,j]=-sin\n",
    "    a[j,j-1]=sin\n",
    "    a[j,j]=cos\n",
    "    return a    \n",
    "givenr(10,2,0.1,0.5)\n"
   ]
  },
  {
   "cell_type": "code",
   "execution_count": 216,
   "metadata": {},
   "outputs": [
    {
     "name": "stdout",
     "output_type": "stream",
     "text": [
      "[[ 1.          0.          0.          0.        ]\n",
      " [ 0.          1.          0.          0.        ]\n",
      " [ 0.          0.          0.94863141 -0.31638339]\n",
      " [ 0.          0.          0.31638339  0.94863141]]\n"
     ]
    }
   ],
   "source": [
    "\n",
    "alpha=aa[3,3]\n",
    "beta=aa[2,3]\n",
    "givens=givenl(4,3,*cs(alpha,beta))\n",
    "print(givens)"
   ]
  },
  {
   "cell_type": "code",
   "execution_count": 217,
   "metadata": {},
   "outputs": [
    {
     "name": "stdout",
     "output_type": "stream",
     "text": [
      "[[ -8.66    0.      0.      0.      0.      0.   ]\n",
      " [ -8.573   4.849   3.584   0.08    0.134  -1.511]\n",
      " [ -0.      0.877   3.097  -1.566 -10.26    4.057]\n",
      " [ -0.     -0.74   -2.593  -1.576   7.963  -1.399]\n",
      " [ -0.      6.728   4.915   2.757   1.072  -5.197]]\n",
      "1\n",
      "[[-8.66025404  0.          0.          0.          0.          0.        ]\n",
      " [-8.57282528 -6.21758279  0.          0.          0.          0.        ]\n",
      " [ 0.          9.61322188 -0.31258394 -2.63370583  1.78443209  2.0847997 ]\n",
      " [ 0.          0.         -1.44535623 -1.40596125  6.23377201 -1.38699466]\n",
      " [ 0.         -0.         -2.66740399  1.72835392 11.33062039 -4.9532751 ]]\n",
      "2\n",
      "[[-8.66025404  0.          0.          0.          0.          0.        ]\n",
      " [-8.57282528 -6.21758279  0.          0.          0.          0.        ]\n",
      " [ 0.          9.61322188  3.81637299  0.          0.          0.        ]\n",
      " [ 0.          0.         -3.62653055 -3.41002096 -7.99302204  6.53601717]\n",
      " [ 0.          0.          0.          3.28554146  6.60688503 -4.69425098]]\n",
      "3\n",
      "[[-8.66  -8.573  0.     0.     0.   ]\n",
      " [ 0.    -6.218  9.613  0.     0.   ]\n",
      " [ 0.     0.     3.816 -3.627  0.   ]\n",
      " [ 0.     0.     0.    10.874 -8.709]\n",
      " [ 0.     0.     0.    -0.    -0.105]\n",
      " [ 0.     0.     0.     0.     0.794]]\n",
      "[[-8.66  -8.573  0.     0.     0.   ]\n",
      " [ 0.    -6.218  9.613  0.     0.   ]\n",
      " [ 0.     0.     3.816 -3.627  0.   ]\n",
      " [ 0.     0.     0.    10.874 -8.709]\n",
      " [ 0.     0.     0.     0.     0.801]\n",
      " [ 0.     0.     0.     0.     0.   ]]\n"
     ]
    }
   ],
   "source": [
    "aa=bidi(big)\n",
    "aa=np.matmul(aa,aa.T)"
   ]
  },
  {
   "cell_type": "code",
   "execution_count": null,
   "metadata": {},
   "outputs": [],
   "source": []
  },
  {
   "cell_type": "code",
   "execution_count": 218,
   "metadata": {
    "scrolled": true
   },
   "outputs": [],
   "source": [
    "ans=(np.around(aa,3))"
   ]
  },
  {
   "cell_type": "code",
   "execution_count": 219,
   "metadata": {},
   "outputs": [
    {
     "data": {
      "text/plain": [
       "array([12.18577039,  7.30082187,  0.        ,  0.        ,  0.        ])"
      ]
     },
     "execution_count": 219,
     "metadata": {},
     "output_type": "execute_result"
    }
   ],
   "source": [
    "np.sqrt(ans[0])"
   ]
  },
  {
   "cell_type": "code",
   "execution_count": 220,
   "metadata": {},
   "outputs": [
    {
     "data": {
      "text/plain": [
       "(array([[-0.16245186,  0.53339794, -0.02798506, -0.18185203, -0.7786487 ,\n",
       "          0.221244  ],\n",
       "        [-0.28915889,  0.5206853 ,  0.41464956,  0.3598046 ,  0.15758536,\n",
       "         -0.56484264],\n",
       "        [-0.30794088,  0.03148567,  0.48043499,  0.23508145,  0.2274779 ,\n",
       "          0.75256482],\n",
       "        [-0.08527243,  0.30441083,  0.13321856, -0.84075824,  0.41884342,\n",
       "          0.00335218],\n",
       "        [ 0.7674657 ,  0.52010942, -0.08163377,  0.20441433,  0.21280054,\n",
       "          0.21621573],\n",
       "        [-0.44597529,  0.28320019, -0.75634221,  0.18315994,  0.3105044 ,\n",
       "          0.13743945]]),\n",
       " array([14.36941284, 13.92590074,  9.72817651,  2.61305043,  0.35186991]),\n",
       " array([[-0.19819813,  0.55600986, -0.54153504,  0.14896356, -0.57975873],\n",
       "        [ 0.40949869,  0.31171079, -0.42933992,  0.35570028,  0.65137681],\n",
       "        [-0.59289146,  0.49541821,  0.1242987 , -0.4285435 ,  0.45159807],\n",
       "        [-0.39522735,  0.08930328,  0.4186279 ,  0.81185089,  0.03832861],\n",
       "        [-0.53413798, -0.58333107, -0.57594057,  0.09238925,  0.18487338]]))"
      ]
     },
     "execution_count": 220,
     "metadata": {},
     "output_type": "execute_result"
    }
   ],
   "source": [
    "np.linalg.svd(big)"
   ]
  },
  {
   "cell_type": "code",
   "execution_count": null,
   "metadata": {},
   "outputs": [],
   "source": []
  }
 ],
 "metadata": {
  "kernelspec": {
   "display_name": "Python 3",
   "language": "python",
   "name": "python3"
  },
  "language_info": {
   "codemirror_mode": {
    "name": "ipython",
    "version": 3
   },
   "file_extension": ".py",
   "mimetype": "text/x-python",
   "name": "python",
   "nbconvert_exporter": "python",
   "pygments_lexer": "ipython3",
   "version": "3.7.6"
  }
 },
 "nbformat": 4,
 "nbformat_minor": 4
}
