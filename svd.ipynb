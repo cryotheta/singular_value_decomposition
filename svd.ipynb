{
 "cells": [
  {
   "cell_type": "code",
   "execution_count": 2,
   "metadata": {},
   "outputs": [],
   "source": [
    "import numpy as np\n"
   ]
  },
  {
   "cell_type": "code",
   "execution_count": 3,
   "metadata": {},
   "outputs": [],
   "source": [
    "matrix=np.array([[568.25,241.684,39.432],[24.553,59.532,954.25664],[27.156,66.54,91.656]])"
   ]
  },
  {
   "cell_type": "code",
   "execution_count": 4,
   "metadata": {
    "scrolled": true
   },
   "outputs": [
    {
     "data": {
      "text/plain": [
       "array([[568.25   , 241.684  ,  39.432  ],\n",
       "       [ 24.553  ,  59.532  , 954.25664],\n",
       "       [ 27.156  ,  66.54   ,  91.656  ]])"
      ]
     },
     "execution_count": 4,
     "metadata": {},
     "output_type": "execute_result"
    }
   ],
   "source": [
    "matrix"
   ]
  },
  {
   "cell_type": "code",
   "execution_count": 5,
   "metadata": {},
   "outputs": [],
   "source": [
    "matrix=np.array([[568.25,241.684,39.432],[24.553,59.532,954.25664],[27.156,66.54,91.656]])"
   ]
  },
  {
   "cell_type": "code",
   "execution_count": 6,
   "metadata": {},
   "outputs": [],
   "source": [
    "def power_method(A):\n",
    "    arr=np.array(A)\n",
    "    n,m=np.shape(A)\n",
    "    x=np.random.rand(m)\n",
    "    while True:\n",
    "        v=np.matmul(matrix,x)\n",
    "        norm=np.linalg.norm(v)\n",
    "        x_new=v/np.linalg.norm(v)\n",
    "        if np.linalg.norm(x-x_new)<0.01:\n",
    "            break\n",
    "        x=x_new\n",
    "    return x\n",
    "    "
   ]
  },
  {
   "cell_type": "code",
   "execution_count": 7,
   "metadata": {},
   "outputs": [],
   "source": [
    "x=power_method(matrix)"
   ]
  },
  {
   "cell_type": "code",
   "execution_count": 8,
   "metadata": {},
   "outputs": [
    {
     "data": {
      "text/plain": [
       "array([0.98061007, 0.18064713, 0.07596379])"
      ]
     },
     "execution_count": 8,
     "metadata": {},
     "output_type": "execute_result"
    }
   ],
   "source": [
    "x"
   ]
  },
  {
   "cell_type": "code",
   "execution_count": 9,
   "metadata": {},
   "outputs": [],
   "source": [
    "def qr(A):\n",
    "    rand=np.random.randn(*np.shape(A))\n",
    "    Q,_=np.linalg.qr(A)\n",
    "    i=0\n",
    "    while True:\n",
    "        i=i+1\n",
    "        Z=A.dot(Q)\n",
    "        Q_new,R_new=np.linalg.qr(Z)\n",
    "        if np.linalg.norm(Q_new-Q)<0.0001:\n",
    "            break\n",
    "        if i==10000:\n",
    "            break\n",
    "        Q=Q_new\n",
    "    return R_new, Q\n",
    "        \n",
    "        \n",
    "        \n",
    "    "
   ]
  },
  {
   "cell_type": "code",
   "execution_count": 10,
   "metadata": {},
   "outputs": [
    {
     "data": {
      "text/plain": [
       "(array([[ 612.78446943,  188.76191665, -119.40042051],\n",
       "        [   0.        ,  270.91304844, -886.25062186],\n",
       "        [   0.        ,    0.        , -164.21393037]]),\n",
       " array([[-0.98288208,  0.18222329, -0.02715668],\n",
       "        [-0.1692311 , -0.95123774, -0.25789067],\n",
       "        [-0.07282615, -0.24888037,  0.96579238]]))"
      ]
     },
     "execution_count": 10,
     "metadata": {},
     "output_type": "execute_result"
    }
   ],
   "source": [
    "qr(matrix)"
   ]
  },
  {
   "cell_type": "code",
   "execution_count": 11,
   "metadata": {},
   "outputs": [
    {
     "data": {
      "text/plain": [
       "(array([ 612.784479  ,  270.88465892, -164.23113792]),\n",
       " array([[-0.98288207, -0.63457219,  0.296039  ],\n",
       "        [-0.16923114,  0.75096949, -0.93161614],\n",
       "        [-0.07282616,  0.18265532,  0.2108371 ]]))"
      ]
     },
     "execution_count": 11,
     "metadata": {},
     "output_type": "execute_result"
    }
   ],
   "source": [
    "np.linalg.eig(matrix)"
   ]
  },
  {
   "cell_type": "code",
   "execution_count": 12,
   "metadata": {},
   "outputs": [],
   "source": [
    "def simultaneous_power_iteration(A, k):\n",
    "    n, m = A.shape\n",
    "    Q = np.random.rand(n, k)\n",
    "    Q, _ = np.linalg.qr(Q)\n",
    "    Q_prev = Q\n",
    " \n",
    "    for i in range(1000):\n",
    "        Z = A.dot(Q)\n",
    "        Q, R = np.linalg.qr(Z)\n",
    "\n",
    "        # can use other stopping criteria as well \n",
    "        err = ((Q - Q_prev) ** 2).sum()\n",
    "        if i % 10 == 0:\n",
    "            print(i, err)\n",
    "\n",
    "        Q_prev = Q\n",
    "        if err < 1e-3:\n",
    "            break\n",
    "\n",
    "    return R, Q"
   ]
  },
  {
   "cell_type": "code",
   "execution_count": 13,
   "metadata": {},
   "outputs": [
    {
     "name": "stdout",
     "output_type": "stream",
     "text": [
      "0 1.4057780159292819\n",
      "10 0.0008147000453053166\n"
     ]
    },
    {
     "data": {
      "text/plain": [
       "(array([[612.84142558, 190.74836497],\n",
       "        [  0.        , 286.91703285]]),\n",
       " array([[-0.98285758,  0.18206249],\n",
       "        [-0.16935903, -0.95385105],\n",
       "        [-0.07285938, -0.2387916 ]]))"
      ]
     },
     "execution_count": 13,
     "metadata": {},
     "output_type": "execute_result"
    }
   ],
   "source": [
    "simultaneous_power_iteration(matrix,2)"
   ]
  },
  {
   "cell_type": "code",
   "execution_count": null,
   "metadata": {},
   "outputs": [],
   "source": []
  },
  {
   "cell_type": "code",
   "execution_count": 2,
   "metadata": {},
   "outputs": [],
   "source": [
    "###########House Holder Transform##########################\n",
    "import numpy as np"
   ]
  },
  {
   "cell_type": "code",
   "execution_count": 12,
   "metadata": {},
   "outputs": [
    {
     "name": "stdout",
     "output_type": "stream",
     "text": [
      "4 2\n"
     ]
    },
    {
     "data": {
      "text/plain": [
       "array([1, 2])"
      ]
     },
     "execution_count": 12,
     "metadata": {},
     "output_type": "execute_result"
    }
   ],
   "source": [
    "matrix=np.array([[1,8,3,4],[2,3,4,5]])\n",
    "n,m=np.shape(matrix)\n",
    "print(m,n)\n",
    "matrix[:,0]"
   ]
  },
  {
   "cell_type": "code",
   "execution_count": 215,
   "metadata": {},
   "outputs": [],
   "source": [
    "def hht(arr,index,column):\n",
    "    matrix=np.array(arr)\n",
    "    n,m=np.shape(matrix)\n",
    "    j=index-1\n",
    "    column=column-1\n",
    "    alpha=np.sqrt(np.sum(matrix[:,j]*matrix[:,j]))*np.sign(matrix[j,column])*np.array([-1])\n",
    "    r=np.sqrt(0.5*alpha*alpha-0.5*matrix[j,column]*alpha)\n",
    "    w0=(matrix[j,column]-alpha)/(2*r)\n",
    "    wj=np.array([matrix[i,0]*0.5/r for i in range(1,n-j)])\n",
    "    w=np.array(np.concatenate((w0,np.squeeze(wj))))\n",
    "    P=np.identity(n-j)-2*np.outer(w,w)\n",
    "    matrix_1=np.matmul(P,matrix)\n",
    "    return alpha,r ,w, matrix_1\n",
    "    "
   ]
  },
  {
   "cell_type": "code",
   "execution_count": 216,
   "metadata": {},
   "outputs": [],
   "source": [
    "big=np.random.normal(size=(5,7))*20\n",
    "big=np.array([[4, 1 , -2, 2],\n",
    "[1 ,2 ,0 ,1],\n",
    "[-2 ,0, 3, -2],\n",
    "[2 ,1 ,-2 ,-1]])"
   ]
  },
  {
   "cell_type": "code",
   "execution_count": 217,
   "metadata": {},
   "outputs": [
    {
     "data": {
      "text/plain": [
       "5"
      ]
     },
     "execution_count": 217,
     "metadata": {},
     "output_type": "execute_result"
    }
   ],
   "source": [
    "np.sum(big[:,0])"
   ]
  },
  {
   "cell_type": "code",
   "execution_count": 218,
   "metadata": {},
   "outputs": [
    {
     "name": "stdout",
     "output_type": "stream",
     "text": [
      "[-5.] [4.74341649] [ 0.9486833   0.10540926 -0.21081851  0.21081851]\n",
      "[[-5.00000000e+00 -1.60000000e+00  3.60000000e+00 -2.20000000e+00]\n",
      " [ 2.77555756e-17  1.71111111e+00  6.22222222e-01  5.33333333e-01]\n",
      " [-2.77555756e-17  5.77777778e-01  1.75555556e+00 -1.06666667e+00]\n",
      " [ 0.00000000e+00  4.22222222e-01 -7.55555556e-01 -1.93333333e+00]]\n"
     ]
    }
   ],
   "source": [
    "a,r,w,P=hht(big,1,1)\n",
    "print(a,r,w)\n",
    "print(P)"
   ]
  },
  {
   "cell_type": "code",
   "execution_count": null,
   "metadata": {},
   "outputs": [],
   "source": [
    "[-5.00000000e+00 -1.60000000e+00  3.60000000e+00 -2.20000000e+00]\n",
    " [ 2.77555756e-17  1.71111111e+00  6.22222222e-01  5.33333333e-01]\n",
    " [-2.77555756e-17  5.77777778e-01  1.75555556e+00 -1.06666667e+00]\n",
    " [ 0.00000000e+00  4.22222222e-01 -7.55555556e-01 -1.93333333e+00]]\n"
   ]
  },
  {
   "cell_type": "code",
   "execution_count": null,
   "metadata": {},
   "outputs": [],
   "source": [
    "for i in range(0)"
   ]
  }
 ],
 "metadata": {
  "kernelspec": {
   "display_name": "Python 3",
   "language": "python",
   "name": "python3"
  },
  "language_info": {
   "codemirror_mode": {
    "name": "ipython",
    "version": 3
   },
   "file_extension": ".py",
   "mimetype": "text/x-python",
   "name": "python",
   "nbconvert_exporter": "python",
   "pygments_lexer": "ipython3",
   "version": "3.7.6"
  }
 },
 "nbformat": 4,
 "nbformat_minor": 4
}
